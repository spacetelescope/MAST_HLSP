{
 "cells": [
  {
   "cell_type": "code",
   "execution_count": null,
   "metadata": {},
   "outputs": [],
   "source": [
    "import string\n",
    "import numpy as np\n",
    "test_string = 'sdssj101622.60-470643.3'"
   ]
  },
  {
   "cell_type": "code",
   "execution_count": null,
   "metadata": {},
   "outputs": [],
   "source": [
    "allowed_characters =list(string.ascii_lowercase)+ ['-', '.'] +list(string.digits)\n",
    "print(allowed_characters)"
   ]
  },
  {
   "cell_type": "code",
   "execution_count": null,
   "metadata": {},
   "outputs": [],
   "source": [
    "list(map(str, np.arange(0,10)))"
   ]
  },
  {
   "cell_type": "code",
   "execution_count": null,
   "metadata": {},
   "outputs": [],
   "source": [
    "string_list = list(test_string)\n",
    "print(string_list)\n",
    "#invalid_character = []\n",
    "for id in string_list:\n",
    "\n",
    "    if id not in allowed_characters:\n",
    "        invalid_character = string_list[string_list.index(id)]\n",
    "        print(test_string + \" has invalid characters: \" + invalid_character)\n",
    "        if invalid_character == '+': \n",
    "            valid_string = test_string.replace(invalid_character, '-p')\n",
    "            print(valid_string)\n",
    "        else : \n",
    "            reply = input(\"I cannot change the name automatically. \"\n",
    "                          \"Would you like to revise the target name of \" + test_string +\"? Type 'y' if want. \")\n",
    "            if reply == 'y':\n",
    "                test_string = input(\"Please enter a new suggested target name: \")\n",
    "                print(\"Now the target name will change to \" + test_string)\n",
    "            else : print(\"Ok, you will have to change the name manually!\")\n",
    "\n",
    "\n",
    "\n",
    "        \n",
    "\n",
    "\n",
    "if '-' in string_list : \n",
    "    reply= input(\"would you like to revise the target name of \" + test_string +\"? Type 'y' if want. \")\n",
    "    if reply == 'y':\n",
    "        test_string= input(\"Enter a new full name: \")\n",
    "        print(\"Now the target name will change to \" + test_string)\n",
    "    else : print(\"Ok, you will have to change the name manually!\")\n",
    "      \n",
    "\n",
    " "
   ]
  },
  {
   "cell_type": "code",
   "execution_count": 1,
   "metadata": {},
   "outputs": [],
   "source": [
    "istring = \"sdss-j093706.85+170021.5\""
   ]
  },
  {
   "cell_type": "code",
   "execution_count": 7,
   "metadata": {},
   "outputs": [
    {
     "name": "stdout",
     "output_type": "stream",
     "text": [
      "[('sdss-j123456.7+234567.0', 'sdss-j123456.7-p234567.0'), ('2xmm-j100420.0-051300', '2xmm-j100420.0-m051300'), None, ('hb89-0107-025-ned05', 'hb89-0107-m025-ned05')]\n"
     ]
    }
   ],
   "source": [
    "import re\n",
    "\n",
    "import itertools\n",
    "\n",
    "dirs = [\"sdss-j123456.7+234567.0\", \"2xmm-j100420.0-051300\", \"cts487\", \"hb89-0107-025-ned05\"]\n",
    "radec_named_catalogs = ['sdss-j', 'j', '2xmm-j', 'hb89-']\n",
    "\n",
    "def check_catalog_name(current_dir, radec_named_catalogs):\n",
    "    for substring in radec_named_catalogs: \n",
    "        if re.match(substring, current_dir):\n",
    "            newstring = re.split(substring, current_dir)[1]\n",
    "            #print(newstring)\n",
    "\n",
    "            if re.search('\\+', newstring) :\n",
    "                new_dir = substring+newstring.replace('+','-p') \n",
    "                failed_dir = current_dir\n",
    "                return failed_dir, new_dir\n",
    "            elif re.search('-',newstring) : \n",
    "                new_dir = substring+newstring.replace('-','-m',1)\n",
    "                failed_dir = current_dir\n",
    "                return failed_dir, new_dir\n",
    "            else : \n",
    "                print(current_dir + \"doesn't contain '-' or '+' signs! \")\n",
    "\n",
    "dirlist= [check_catalog_name(current_dir, radec_named_catalogs) for current_dir in dirs]\n",
    "\n",
    "dirname_change_list = list(itertools.filterfalse(lambda item: not item , dirlist))\n",
    "failed_dir, new_dir = dirname_change_list[0]\n",
    "print(dirlist)"
   ]
  },
  {
   "cell_type": "markdown",
   "metadata": {},
   "source": []
  }
 ],
 "metadata": {
  "kernelspec": {
   "display_name": "caom",
   "language": "python",
   "name": "python3"
  },
  "language_info": {
   "codemirror_mode": {
    "name": "ipython",
    "version": 3
   },
   "file_extension": ".py",
   "mimetype": "text/x-python",
   "name": "python",
   "nbconvert_exporter": "python",
   "pygments_lexer": "ipython3",
   "version": "3.9.5"
  },
  "orig_nbformat": 4
 },
 "nbformat": 4,
 "nbformat_minor": 2
}
